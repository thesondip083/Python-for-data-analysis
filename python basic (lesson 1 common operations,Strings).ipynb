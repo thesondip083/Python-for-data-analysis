{
 "cells": [
  {
   "cell_type": "code",
   "execution_count": 51,
   "metadata": {},
   "outputs": [
    {
     "name": "stdout",
     "output_type": "stream",
     "text": [
      "(300+2j)\n"
     ]
    }
   ],
   "source": [
    "#this is a comment in python\n",
    "#we can use python as a calculator\n",
    "\n",
    "2+3 #prints 5\n",
    "2.05+3 #converts int to float 5.05\n",
    "f=100\n",
    "f+_ # the sign _ stores the value of last printed expression\n",
    "\n",
    "#operations with complex number\n",
    "a=100+4J #J represents the complex part\n",
    "b=200-2J\n",
    "c=a+b\n",
    "print(c)\n",
    "\n",
    "10/2.2  #returns 4.545454545454545\n",
    "round(10/2.2,2)  #returns 4.5\n",
    "10//2.2 #returns 4 by omitting the fractional part\n",
    "\n",
    "x=2**3 #returns 8\n",
    "c=10%3 #1 modulus\n",
    "\n"
   ]
  },
  {
   "cell_type": "code",
   "execution_count": 8,
   "metadata": {},
   "outputs": [],
   "source": [
    "#PYTHON Strings"
   ]
  },
  {
   "cell_type": "code",
   "execution_count": 21,
   "metadata": {},
   "outputs": [
    {
     "name": "stdout",
     "output_type": "stream",
     "text": [
      "you shouldn't do this\n",
      "C:\\sondip\\python\n",
      "my name is sondip\n",
      " i'm a laravel developer\n",
      "for printing a long line\n",
      "we can use three quotes\n",
      "\n",
      "or for printing a long line\n",
      "we can use three single quotes\n",
      "\n"
     ]
    }
   ],
   "source": [
    "'word' #same as writing \"word\"\n",
    "'a sentence' #same as writing \"a sentence\"\n",
    "\n",
    "'you shouldn\\'t do this' #or write it in \" \" quote\n",
    "# returns \"you shouldn't do this\"\n",
    "#here \\is known as escape character\n",
    "#for a better result we can use print\n",
    "\n",
    "print('you shouldn\\'t do this') #returns you shouldn't do this without second quote\n",
    "\n",
    "#sometimes we need the blackslash character itself \n",
    "#we can use the raw code then\n",
    "\n",
    "print(r'C:\\sondip\\python')\n",
    "\n",
    "print('my name is sondip\\n i\\'m a laravel developer') #/n used for new line\n",
    "print(\"\"\"for printing a long line\n",
    "we can use three quotes\n",
    "\"\"\")\n",
    "\n",
    "print('''or for printing a long line\n",
    "we can use three single quotes\n",
    "''')"
   ]
  },
  {
   "cell_type": "code",
   "execution_count": 22,
   "metadata": {},
   "outputs": [],
   "source": [
    "#Simple operations on string"
   ]
  },
  {
   "cell_type": "code",
   "execution_count": 69,
   "metadata": {},
   "outputs": [
    {
     "data": {
      "text/plain": [
       "'Jecture'"
      ]
     },
     "execution_count": 69,
     "metadata": {},
     "output_type": "execute_result"
    }
   ],
   "source": [
    "s=\"Lecturer\"\n",
    "len(s)  #prints the length of a string \n",
    "name=\"sondip poul singh\"\n",
    "len(name) # returns 17 by taking the space in counting also\n",
    "s[0] #prints L\n",
    "s[-1] #prints r\n",
    "s[len(s)-1] #prints r\n",
    "s[0:3] #prints Lec(0,1,2 position)\n",
    "s[-8:-1] # returns Lecturer but note that s[-1:-8] returns empty string\n",
    "s[2:4] #returns ct\n",
    "s[2:] #returns cturer\n",
    "s[:4] #returns Lect\n",
    "s[0:100] #no problem with that\n",
    "s[100] #error out of range\n",
    "#string is taken from the beginning position to less than the last position given \n",
    "#s[0]='B' returns error cause strings in python are immutable or cant be changed\n",
    "#if needed we have to take another string to assign the updated value\n",
    "\n",
    "new='J'+s[1:len(s)-1]  #'J'+s[1:]\n",
    "new #Jecturer "
   ]
  },
  {
   "cell_type": "code",
   "execution_count": 44,
   "metadata": {},
   "outputs": [],
   "source": [
    "#Concatenating strings"
   ]
  },
  {
   "cell_type": "code",
   "execution_count": 65,
   "metadata": {},
   "outputs": [
    {
     "name": "stdout",
     "output_type": "stream",
     "text": [
      "python\n",
      "python\n",
      "python\n",
      "\n",
      "susmoy sondip are brothers\n"
     ]
    },
    {
     "data": {
      "text/plain": [
       "'goshaipur'"
      ]
     },
     "execution_count": 65,
     "metadata": {},
     "output_type": "execute_result"
    }
   ],
   "source": [
    "x='python\\n'\n",
    "y=3*x\n",
    "print(y) #prints 3 times python with new lines\n",
    "\n",
    "p='data '\n",
    "q='analysis'\n",
    "\n",
    "p+q #data analysis\n",
    "\n",
    "#two string literals concate automatically when variable is not included\n",
    "'sus' 'moy'  #prints susmoy\n",
    "print('susmoy ' 'sondip ' 'are brothers') #susmoy sondip are brothers(spaces added for better result view)\n",
    "\n",
    "gram='goshai' #a variable\n",
    "'pur' #a string literal\n",
    "\n",
    "gram+'pur' #note gram'pur' returns error cause a string and a literal cant be added without + sign"
   ]
  },
  {
   "cell_type": "code",
   "execution_count": 70,
   "metadata": {},
   "outputs": [],
   "source": [
    "#several operations can be done on string as finding,manipulating,reversing etc\n",
    "#those topics will be covered in details in next lessons"
   ]
  },
  {
   "cell_type": "code",
   "execution_count": null,
   "metadata": {},
   "outputs": [],
   "source": []
  }
 ],
 "metadata": {
  "kernelspec": {
   "display_name": "Python 3",
   "language": "python",
   "name": "python3"
  },
  "language_info": {
   "codemirror_mode": {
    "name": "ipython",
    "version": 3
   },
   "file_extension": ".py",
   "mimetype": "text/x-python",
   "name": "python",
   "nbconvert_exporter": "python",
   "pygments_lexer": "ipython3",
   "version": "3.7.3"
  }
 },
 "nbformat": 4,
 "nbformat_minor": 2
}
